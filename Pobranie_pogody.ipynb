{
  "nbformat": 4,
  "nbformat_minor": 0,
  "metadata": {
    "colab": {
      "provenance": [],
      "authorship_tag": "ABX9TyP6ftYdZLs5EUvPOur0RI5S",
      "include_colab_link": true
    },
    "kernelspec": {
      "name": "python3",
      "display_name": "Python 3"
    },
    "language_info": {
      "name": "python"
    }
  },
  "cells": [
    {
      "cell_type": "markdown",
      "metadata": {
        "id": "view-in-github",
        "colab_type": "text"
      },
      "source": [
        "<a href=\"https://colab.research.google.com/github/ckaktena/pogoda/blob/main/Pobranie_pogody.ipynb\" target=\"_parent\"><img src=\"https://colab.research.google.com/assets/colab-badge.svg\" alt=\"Open In Colab\"/></a>"
      ]
    },
    {
      "cell_type": "code",
      "execution_count": null,
      "metadata": {
        "colab": {
          "base_uri": "https://localhost:8080/"
        },
        "id": "l_68iNFTirDx",
        "outputId": "a60463ab-027a-409a-d342-b8da58b1e063"
      },
      "outputs": [
        {
          "output_type": "stream",
          "name": "stdout",
          "text": [
            "Dane pogodowe:\n",
            "Temp. powietrza:: 9.6°C\n",
            "Temp. nawierzchni:: 9.2°C\n",
            "Wilgotno¶æ:: 99%\n",
            "Stan nawierzchni:: mokra\n"
          ]
        }
      ],
      "source": [
        "import requests\n",
        "from bs4 import BeautifulSoup\n",
        "\n",
        "# Pobieranie zawartości strony\n",
        "url = 'https://www.traxelektronik.pl/pogoda/kamery/kamera.php?pkamnum=1067&ver=0'\n",
        "response = requests.get(url)\n",
        "\n",
        "# Analiza zawartości strony za pomocą BeautifulSoup\n",
        "soup = BeautifulSoup(response.content, 'html.parser')\n",
        "# Szukamy tabeli z danymi pogodowymi\n",
        "weather_table = soup.find('table', attrs={'id': 'male'})\n",
        "\n",
        "# Sprawdzamy czy tabela została znaleziona\n",
        "if weather_table:\n",
        "    # Szukamy wszystkich wierszy w tabeli\n",
        "    rows = weather_table.find_all('tr')\n",
        "\n",
        "    # Przechowujemy dane pogodowe\n",
        "    weather_data = {}\n",
        "\n",
        "    # Iterujemy przez wiersze tabeli\n",
        "    for row in rows:\n",
        "        # Szukamy komórek w bieżącym wierszu\n",
        "        cells = row.find_all(['td', 'th'])\n",
        "\n",
        "        # Pobieramy tekst z komórek i zapisujemy do słownika weather_data\n",
        "        if len(cells) == 2:\n",
        "            key = cells[0].get_text(strip=True)\n",
        "            value = cells[1].get_text(strip=True)\n",
        "            weather_data[key] = value\n",
        "\n",
        "    # Wyświetlamy zebrane dane\n",
        "    print(\"Dane pogodowe:\")\n",
        "    for key, value in weather_data.items():\n",
        "        print(f\"{key}: {value}\")\n",
        "else:\n",
        "    print(\"Tabela z danymi pogodowymi nie została znaleziona.\")\n"
      ]
    },
    {
      "cell_type": "code",
      "source": [
        "import smtplib\n",
        "from email.mime.multipart import MIMEMultipart\n",
        "from email.mime.text import MIMEText\n",
        "\n",
        "# Dane do logowania\n",
        "email_address = \"ckaktena@gmail.com\"\n",
        "password = \"bzaj zvss xedp melv\"\n",
        "\n",
        "# Tworzenie wiadomości\n",
        "msg = MIMEMultipart()\n",
        "msg['From'] = email_address\n",
        "msg['To'] = \"orlowski_pawel@yahoo.pl\"\n",
        "msg['Subject'] = \"Temat wiadomości\"\n",
        "\n",
        "body = \"Treść wiadomości.\"\n",
        "msg.attach(MIMEText(body, 'plain'))\n",
        "\n",
        "# Konfiguracja serwera SMTP dla Gmaila\n",
        "server = smtplib.SMTP('smtp.gmail.com', 587)\n",
        "server.starttls()\n",
        "server.login(email_address, password)\n",
        "\n",
        "# Wysyłanie wiadomości\n",
        "server.send_message(msg)\n",
        "\n",
        "# Zamykanie połączenia z serwerem\n",
        "server.quit()"
      ],
      "metadata": {
        "colab": {
          "base_uri": "https://localhost:8080/"
        },
        "id": "jXQGGiM0kmF0",
        "outputId": "8b63e679-96a5-4889-9a83-3e60ac7e9aac"
      },
      "execution_count": null,
      "outputs": [
        {
          "output_type": "execute_result",
          "data": {
            "text/plain": [
              "(221,\n",
              " b'2.0.0 closing connection f12-20020a170902684c00b001c9cc44eb60sm1431466pln.201 - gsmtp')"
            ]
          },
          "metadata": {},
          "execution_count": 14
        }
      ]
    },
    {
      "cell_type": "code",
      "source": [],
      "metadata": {
        "id": "pX6SL8zukvZ8"
      },
      "execution_count": null,
      "outputs": []
    }
  ]
}